{
 "cells": [
  {
   "cell_type": "markdown",
   "metadata": {},
   "source": [
    "# Exploring Gun Deads in the USA #\n",
    "** Final Guided project for the \"Python Programming - Intermediate\" module of the  \"Data Analyst - Python\" Path in the Dataquest.io MOOC. **"
   ]
  },
  {
   "cell_type": "markdown",
   "metadata": {},
   "source": [
    " Goals: Try to find patterns in demographics of the victims of Gun related Deaths in the United States of America using Data sampled during the years 2002 to 2004. \n",
    "                 Original Data from https://github.com/fivethirtyeight/guns-data"
   ]
  },
  {
   "cell_type": "markdown",
   "metadata": {},
   "source": [
    "#### Importing CSV Data, converting it to a list of lists and separating the header from the rest of the data. ####    "
   ]
  },
  {
   "cell_type": "code",
   "execution_count": 14,
   "metadata": {
    "collapsed": false,
    "scrolled": true
   },
   "outputs": [
    {
     "name": "stdout",
     "output_type": "stream",
     "text": [
      "['', 'year', 'month', 'intent', 'police', 'sex', 'age', 'race', 'hispanic', 'place', 'education']\n",
      "\n",
      "\n",
      "[['1', '2012', '01', 'Suicide', '0', 'M', '34', 'Asian/Pacific Islander', '100', 'Home', '4'], ['2', '2012', '01', 'Suicide', '0', 'F', '21', 'White', '100', 'Street', '3'], ['3', '2012', '01', 'Suicide', '0', 'M', '60', 'White', '100', 'Other specified', '4'], ['4', '2012', '02', 'Suicide', '0', 'M', '64', 'White', '100', 'Home', '4'], ['5', '2012', '02', 'Suicide', '0', 'M', '31', 'White', '100', 'Other specified', '2']]\n"
     ]
    }
   ],
   "source": [
    "import csv\n",
    "with open(\"guns.csv\", \"r\") as f:\n",
    "    data = list(csv.reader(f))\n",
    "headers = data[0]\n",
    "data = data[1:]\n",
    "print(headers)\n",
    "print(\"\\n\")\n",
    "print(data[:5])\n",
    "\n",
    "# Header and first 5 rows of our Data."
   ]
  },
  {
   "cell_type": "markdown",
   "metadata": {},
   "source": [
    "#### Counting the number of gun deaths recorded for each year of the sample. ####\n"
   ]
  },
  {
   "cell_type": "code",
   "execution_count": 15,
   "metadata": {
    "collapsed": false
   },
   "outputs": [
    {
     "name": "stdout",
     "output_type": "stream",
     "text": [
      "{2012: 33563, 2013: 33636, 2014: 33599}\n"
     ]
    }
   ],
   "source": [
    "years = []\n",
    "year_counts = {}\n",
    "years = [int(row[1]) for row in data]\n",
    "for y in years:\n",
    "    if y not in year_counts:\n",
    "        year_counts[y] = 1\n",
    "    else:\n",
    "        year_counts[y] += 1\n",
    "print(year_counts)\n",
    "\n",
    "# Number of gun related fatalities during each year sampled in the Data."
   ]
  },
  {
   "cell_type": "markdown",
   "metadata": {},
   "source": [
    "#### Counting the number of gun fatalities recorded for each Month of the available data .\n"
   ]
  },
  {
   "cell_type": "code",
   "execution_count": 16,
   "metadata": {
    "collapsed": false
   },
   "outputs": [
    {
     "data": {
      "text/plain": [
       "{'2012, 01': 2758,\n",
       " '2012, 02': 2357,\n",
       " '2012, 03': 2743,\n",
       " '2012, 04': 2795,\n",
       " '2012, 05': 2999,\n",
       " '2012, 06': 2826,\n",
       " '2012, 07': 3026,\n",
       " '2012, 08': 2954,\n",
       " '2012, 09': 2852,\n",
       " '2012, 10': 2733,\n",
       " '2012, 11': 2729,\n",
       " '2012, 12': 2791,\n",
       " '2013, 01': 2864,\n",
       " '2013, 02': 2375,\n",
       " '2013, 03': 2862,\n",
       " '2013, 04': 2798,\n",
       " '2013, 05': 2806,\n",
       " '2013, 06': 2920,\n",
       " '2013, 07': 3079,\n",
       " '2013, 08': 2859,\n",
       " '2013, 09': 2742,\n",
       " '2013, 10': 2808,\n",
       " '2013, 11': 2758,\n",
       " '2013, 12': 2765,\n",
       " '2014, 01': 2651,\n",
       " '2014, 02': 2361,\n",
       " '2014, 03': 2684,\n",
       " '2014, 04': 2862,\n",
       " '2014, 05': 2864,\n",
       " '2014, 06': 2931,\n",
       " '2014, 07': 2884,\n",
       " '2014, 08': 2970,\n",
       " '2014, 09': 2914,\n",
       " '2014, 10': 2865,\n",
       " '2014, 11': 2756,\n",
       " '2014, 12': 2857}"
      ]
     },
     "execution_count": 16,
     "metadata": {},
     "output_type": "execute_result"
    }
   ],
   "source": [
    "import datetime\n",
    "dates = []\n",
    "date_counts = {}\n",
    "for row in data:\n",
    "    year = int(row[1])\n",
    "    month = int(row[2])\n",
    "    date = datetime.datetime(year = year, month = month, day = 1)\n",
    "    date = date.strftime(\"%Y, %m\")\n",
    "    dates.append(date)\n",
    "for item in dates:\n",
    "    if item not in date_counts:\n",
    "        date_counts[item] = 1\n",
    "    else:\n",
    "        date_counts[item] += 1\n",
    "date_counts\n",
    "    \n",
    "# Number of gun related deaths recorded for each month."
   ]
  },
  {
   "cell_type": "markdown",
   "metadata": {},
   "source": [
    "#### Creating Dictionaries with the number of gun related deaths by race or gender. ####"
   ]
  },
  {
   "cell_type": "code",
   "execution_count": 17,
   "metadata": {
    "collapsed": false
   },
   "outputs": [
    {
     "name": "stdout",
     "output_type": "stream",
     "text": [
      "{'M': 86349, 'F': 14449}\n",
      "{'Hispanic': 9022, 'Black': 23296, 'Asian/Pacific Islander': 1326, 'White': 66237, 'Native American/Native Alaskan': 917}\n"
     ]
    }
   ],
   "source": [
    "sex_counts = {}\n",
    "race_counts = {}\n",
    "for row in data:\n",
    "    if row[5] not in sex_counts:\n",
    "        sex_counts[row[5]] = 1\n",
    "    else: \n",
    "        sex_counts[row[5]] += 1\n",
    "    if row[7] not in race_counts:\n",
    "        race_counts[row[7]] = 1\n",
    "    else: \n",
    "        race_counts[row[7]] += 1 \n",
    "print(sex_counts)\n",
    "print(race_counts)\n",
    "\n",
    "# Number of recorded death individuals by gender and by race."
   ]
  },
  {
   "cell_type": "markdown",
   "metadata": {},
   "source": [
    "## Conclusions so far ##\n",
    "* Besides February being the month with the lowest number of gun related fatalities of every recorded year there aren´t any major variations of gun related deaths by year or month. \n",
    "* The vast majority of Gun related fatalities in the USA are of male individuals.\n",
    "* To reach conclusions about how the incidence of gun related deaths are influenced by race, the ethnic composition of the general population must be known. \n",
    "\n"
   ]
  },
  {
   "cell_type": "markdown",
   "metadata": {},
   "source": [
    "#### Opening census data and extracting the number of individuals identifying with each race category.####\n"
   ]
  },
  {
   "cell_type": "code",
   "execution_count": 18,
   "metadata": {
    "collapsed": false
   },
   "outputs": [
    {
     "name": "stdout",
     "output_type": "stream",
     "text": [
      "10\n",
      "Race Alone - White : 197318956\n",
      "\n",
      "\n",
      "11\n",
      "Race Alone - Hispanic : 44618105\n",
      "\n",
      "\n",
      "12\n",
      "Race Alone - Black or African American : 40250635\n",
      "\n",
      "\n",
      "13\n",
      "Race Alone - American Indian and Alaska Native : 3739506\n",
      "\n",
      "\n",
      "14\n",
      "Race Alone - Asian : 15159516\n",
      "\n",
      "\n",
      "15\n",
      "Race Alone - Native Hawaiian and Other Pacific Islander : 674625\n",
      "\n",
      "\n",
      "16\n",
      "Two or More Races : 6984195\n",
      "\n",
      "\n"
     ]
    }
   ],
   "source": [
    "with open(\"census.csv\", \"r\") as ff:\n",
    "    census = list(csv.reader(ff))\n",
    "dict = {}\n",
    "for i, f in enumerate(census[0]):\n",
    "    if i >= 10:\n",
    "        print(i)\n",
    "        print(census[0][i] + \" : \" + census[1][i])\n",
    "        print(\"\\n\")\n",
    "        \n",
    "# Id of each race category and respective population value."
   ]
  },
  {
   "cell_type": "markdown",
   "metadata": {},
   "source": [
    "#### Creating a dictionary that contain the rate of gun deaths per 100k people for each racial category ####"
   ]
  },
  {
   "cell_type": "code",
   "execution_count": 19,
   "metadata": {
    "collapsed": false,
    "scrolled": true
   },
   "outputs": [
    {
     "data": {
      "text/plain": [
       "{'Asian/Pacific Islander': 8.374309664161762,\n",
       " 'Black': 57.8773477735196,\n",
       " 'Hispanic': 20.220491210910907,\n",
       " 'Native American/Native Alaskan': 24.521955573811088,\n",
       " 'White': 33.56849303419181}"
      ]
     },
     "execution_count": 19,
     "metadata": {},
     "output_type": "execute_result"
    }
   ],
   "source": [
    "mapping = {}\n",
    "race_per_hundredk = {}\n",
    "mapping[\"Asian/Pacific Islander\"] = int(census[1][14]) + int(census[1][15])\n",
    "mapping[\"Black\"] = int(census[1][12])\n",
    "mapping[\"Native American/Native Alaskan\"] = int(census[1][13])\n",
    "mapping[\"Hispanic\"] = int(census[1][11])\n",
    "mapping[\"White\"] = int(census[1][10])\n",
    "race_per_hundredk = {key : (int(race_counts[key])/int(mapping[key])*100000) for key in race_counts}\n",
    "race_per_hundredk    \n",
    "\n",
    "# Number of Gun Fatalities for 100.000 people for each racial category "
   ]
  },
  {
   "cell_type": "markdown",
   "metadata": {},
   "source": [
    "#### Extacting number of homicides by racial categories. ####\n"
   ]
  },
  {
   "cell_type": "code",
   "execution_count": 20,
   "metadata": {
    "collapsed": false
   },
   "outputs": [
    {
     "data": {
      "text/plain": [
       "{'Asian/Pacific Islander': 3.530346230970155,\n",
       " 'Black': 48.471284987180944,\n",
       " 'Hispanic': 12.627161104219914,\n",
       " 'Native American/Native Alaskan': 8.717729026240365,\n",
       " 'White': 4.6356417981453335}"
      ]
     },
     "execution_count": 20,
     "metadata": {},
     "output_type": "execute_result"
    }
   ],
   "source": [
    "intent = []\n",
    "intent = [row[3] for row in data]\n",
    "races = [row[7] for row in data] \n",
    "homicide_race_counts = {}\n",
    "for i, race in enumerate(races):\n",
    "    if intent[i] == (\"Homicide\"):\n",
    "        if race not in homicide_race_counts:\n",
    "            homicide_race_counts[race] = 1\n",
    "        else:\n",
    "            homicide_race_counts[race] += 1\n",
    "homicide_race_counts = {race : (homicide_race_counts[race]/mapping[race]*100000) for race in homicide_race_counts}\n",
    "homicide_race_counts\n",
    "\n",
    "# Displaying number of homicides per 100.000 people for each race category."
   ]
  },
  {
   "cell_type": "code",
   "execution_count": 38,
   "metadata": {
    "collapsed": false
   },
   "outputs": [
    {
     "name": "stdout",
     "output_type": "stream",
     "text": [
      "{'Hispanic': 12.627161104219914, 'Native American/Native Alaskan': 8.717729026240365, 'Asian/Pacific Islander': 3.530346230970155, 'White': 4.6356417981453335, 'Black': 48.471284987180944}\n"
     ]
    }
   ],
   "source": [
    "intent = []\n",
    "intent = [row[3] for row in data]\n",
    "races = [row[7] for row in data] \n",
    "intent_set = set(intent)\n",
    "intent_race_counts = {}\n",
    "for inti in intent_set:\n",
    "    intent_race_counts[inti] = {}\n",
    "    for i, race in enumerate(races):\n",
    "        if intent[i] == (inti):\n",
    "            if race not in intent_race_counts[inti]:\n",
    "                intent_race_counts[inti][race] = 1\n",
    "            else:\n",
    "                intent_race_counts[inti][race] += 1\n",
    "#intent_race_counts\n",
    "homicide_race_counts = {race : (intent_race_counts[\"Homicide\"][race]/mapping[race]*100000) for race in intent_race_counts[inti]}\n",
    "print(homicide_race_counts)"
   ]
  },
  {
   "cell_type": "markdown",
   "metadata": {
    "collapsed": true
   },
   "source": [
    "## Conclusions so far: ##\n",
    " - The population identified as the \"Black\" racial category is the most affected by both Homicides and overall Gun related Deaths, while the \"Asian/Pacific Islander\" is the less affected.\n",
    " - The population indentified as the \"White\" racial category have a large number of gun related deaths that is not explained by the number of homicides. \n",
    " \n",
    " (Guided Project stops here, continuing data exploration.) "
   ]
  },
  {
   "cell_type": "markdown",
   "metadata": {},
   "source": [
    " #### Calculating what percentage of reported gun related deaths are homicides (by race) ####\n"
   ]
  },
  {
   "cell_type": "code",
   "execution_count": 21,
   "metadata": {
    "collapsed": false
   },
   "outputs": [
    {
     "name": "stdout",
     "output_type": "stream",
     "text": [
      "{'Hispanic': 62.4473509199734, 'Black': 83.74828296703295, 'Asian/Pacific Islander': 42.156862745098046, 'White': 13.809502241949362, 'Native American/Native Alaskan': 35.55070883315158}\n"
     ]
    }
   ],
   "source": [
    "perc_homicides = {race : (homicide_race_counts[race]/race_per_hundredk[race]*100) for race in race_per_hundredk}\n",
    "print(perc_homicides)\n",
    "\n",
    "# Percentage of Homicides by race (%)"
   ]
  },
  {
   "cell_type": "code",
   "execution_count": 33,
   "metadata": {
    "collapsed": false
   },
   "outputs": [
    {
     "name": "stdout",
     "output_type": "stream",
     "text": [
      "{'Undetermined': 0.8006111232365722, 'Homicide': 34.89751780789302, 'Suicide': 62.674854659814685, 'NA': 0.0009920831762534972, 'Accidental': 1.6260243258794815}\n"
     ]
    }
   ],
   "source": [
    "\n",
    "intent_count = {}\n",
    "for int in intent:\n",
    "    if int not in intent_count:\n",
    "        intent_count[int] = 1\n",
    "    else:\n",
    "        intent_count[int] += 1\n",
    "int_perc = {int : (intent_count[int]/len(intent)*100) for int in intent_count}\n",
    "print(int_perc)\n",
    "    \n",
    "#print(intent_count)\n",
    "#per_suicide = intent_count[\"Suicide\"]/len(intent)*100\n",
    "#print(per_suicide)\n",
    "#per_homicide = intent_count[\"Homicide\"]/len(intent)*100\n",
    "#print(per_homicide)"
   ]
  },
  {
   "cell_type": "code",
   "execution_count": null,
   "metadata": {
    "collapsed": true
   },
   "outputs": [],
   "source": []
  }
 ],
 "metadata": {
  "kernelspec": {
   "display_name": "Python 3",
   "language": "python",
   "name": "python3"
  },
  "language_info": {
   "codemirror_mode": {
    "name": "ipython",
    "version": 3
   },
   "file_extension": ".py",
   "mimetype": "text/x-python",
   "name": "python",
   "nbconvert_exporter": "python",
   "pygments_lexer": "ipython3",
   "version": "3.4.3"
  }
 },
 "nbformat": 4,
 "nbformat_minor": 0
}
